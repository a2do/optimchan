{
  "nbformat": 4,
  "nbformat_minor": 0,
  "metadata": {
    "colab": {
      "name": "gradient descent.ipynb",
      "provenance": [],
      "collapsed_sections": []
    },
    "kernelspec": {
      "name": "python3",
      "display_name": "Python 3"
    },
    "language_info": {
      "name": "python"
    },
    "accelerator": "GPU",
    "gpuClass": "standard"
  },
  "cells": [
    {
      "cell_type": "code",
      "execution_count": 1,
      "metadata": {
        "id": "BpNhmPqJ5Rlg"
      },
      "outputs": [],
      "source": [
        "from sklearn.model_selection import train_test_split\n",
        "from sklearn.metrics import classification_report\n",
        "from sklearn.datasets import make_blobs\n",
        "import matplotlib.pyplot as plt\n",
        "import numpy as np\n",
        "%matplotlib inline"
      ]
    },
    {
      "cell_type": "code",
      "source": [
        "# generate a 2-class classification problem with 2,000 data points, each data point is a 2D feature vector\n",
        "(X, y) = make_blobs(n_samples=2000, n_features=2, centers=2, cluster_std=1.5, random_state=1)\n",
        "y = y.reshape((y.shape[0], 1))\n",
        "\n",
        "'''insert a column of 1’s as the last entry in the feature matrix  \n",
        "--> treat the bias as a trainable parameter'''\n",
        "X = np.c_[X, np.ones((X.shape[0]))]\n",
        "\n",
        "# Split data, use 50% of the data for training and the remaining 50% for testing\n",
        "(trainX, testX, trainY, testY) = train_test_split(X, y, test_size=0.5, random_state=42)"
      ],
      "metadata": {
        "id": "_tJaxfAe5aXg"
      },
      "execution_count": 2,
      "outputs": []
    },
    {
      "cell_type": "code",
      "source": [
        "def sigmoid_activation(x):\n",
        "    \"\"\"compute the sigmoid activation value for a given input\"\"\"\n",
        "    \"\"\"Sigmoid funcion S(x) = \\frac{1}{1+exp(x)}\"\"\"\n",
        "    return 1.0/(1.0 + np.exp(-x))\n",
        "\n",
        "def sigmoid_deriv(x):\n",
        "    '''compute the derivative of the sigmoid function ASSUMING\n",
        "    that the input ‘x‘ has already been passed through the sigmoid\n",
        "    activation function'''\n",
        "    return x * (1 - x)"
      ],
      "metadata": {
        "id": "weNOTRuz5cnX"
      },
      "execution_count": 3,
      "outputs": []
    },
    {
      "cell_type": "code",
      "source": [
        "plt.plot(np.linspace(-10, 10, 100), sigmoid_activation(np.linspace(-10, 10, 100)))\n",
        "plt.xlabel(\"x\")\n",
        "plt.ylabel(\"Sigmoid(X)\")\n",
        "plt.grid(True)\n",
        "plt.show()"
      ],
      "metadata": {
        "colab": {
          "base_uri": "https://localhost:8080/",
          "height": 279
        },
        "id": "DAqQlkmR5iEH",
        "outputId": "f39c58c4-21fe-42bc-a199-caea5d5e1d45"
      },
      "execution_count": 4,
      "outputs": [
        {
          "output_type": "display_data",
          "data": {
            "text/plain": [
              "<Figure size 432x288 with 1 Axes>"
            ],
            "image/png": "[encoded data removed]"
          },
          "metadata": {
            "needs_background": "light"
          }
        }
      ]
    },
    {
      "cell_type": "code",
      "source": [
        "def compute_h(W, X):\n",
        "    \"\"\"\n",
        "    Compute output: Take the dot product between our features ‘X‘ and the weight\n",
        "    matrix ‘W‘, then pass this value through our sigmoid activation function \n",
        "    \"\"\"\n",
        "    return sigmoid_activation(np.dot(X, W))\n",
        "\n",
        "def predict(W, X):\n",
        "    '''Take the dot product between our features and weight matrix, \n",
        "       then pass this value through our sigmoid activation'''\n",
        "    preds = compute_h(W, X)\n",
        "    \n",
        "    # apply a step function to threshold the outputs to binary\n",
        "    # class labels\n",
        "    preds[preds <= 0.5] = 0\n",
        "    preds[preds > 0] = 1\n",
        "\n",
        "    return preds"
      ],
      "metadata": {
        "id": "uALVTbML5m72"
      },
      "execution_count": 5,
      "outputs": []
    },
    {
      "cell_type": "code",
      "source": [
        "# batch gradient descent\n",
        "W = np.random.randn(X.shape[1], 1)\n",
        "losses = []"
      ],
      "metadata": {
        "id": "CEOFQ4U955pv"
      },
      "execution_count": 6,
      "outputs": []
    },
    {
      "cell_type": "code",
      "source": [
        "def compute_gradient(error, h, trainX):\n",
        "    \"\"\"\n",
        "    The gradient descent update is the dot product between our\n",
        "    features and the error of the sigmoid derivative of our predictions\n",
        "    \"\"\"\n",
        "    gradient = np.dot(trainX.T, error * sigmoid_deriv(h))\n",
        "    return gradient"
      ],
      "metadata": {
        "id": "aADXGPcO577w"
      },
      "execution_count": 7,
      "outputs": []
    },
    {
      "cell_type": "code",
      "source": [
        "def train(W, X_trains, y_trains, learning_rate, num_epochs):\n",
        "    for epoch in np.arange(0, num_epochs):\n",
        "        h = compute_h(W, X_trains)\n",
        "        # now that we have our predictions, we need to determine the\n",
        "        # ‘error‘, which is the difference between our predictions and\n",
        "        # the true values\n",
        "        error = h - y_trains\n",
        "\n",
        "        loss = np.sum(error ** 2)\n",
        "        losses.append(loss)\n",
        "\n",
        "        gradient = compute_gradient(error, h, X_trains)\n",
        "        \n",
        "        W += -learning_rate * gradient\n",
        "        \n",
        "        if epoch == 0 or (epoch + 1) % 5 == 0:\n",
        "            print(\"[LOG] Epoch={}, loss={:.7f}\".format(int(epoch + 1),loss))\n",
        "        \n",
        "    return W"
      ],
      "metadata": {
        "id": "4lVYCLK15_Ea"
      },
      "execution_count": 8,
      "outputs": []
    },
    {
      "cell_type": "code",
      "source": [
        "num_epochs=100\n",
        "learning_rate=0.01\n",
        "W=train(W,trainX, trainY, learning_rate, num_epochs)"
      ],
      "metadata": {
        "colab": {
          "base_uri": "https://localhost:8080/"
        },
        "id": "MvM8-r2e6DGf",
        "outputId": "7676bbe5-ff66-49ff-c838-e496e624bac6"
      },
      "execution_count": 9,
      "outputs": [
        {
          "output_type": "stream",
          "name": "stdout",
          "text": [
            "[LOG] Epoch=1, loss=663.9693035\n",
            "[LOG] Epoch=5, loss=293.3552650\n",
            "[LOG] Epoch=10, loss=7.1415726\n",
            "[LOG] Epoch=15, loss=4.4857760\n",
            "[LOG] Epoch=20, loss=3.2631981\n",
            "[LOG] Epoch=25, loss=2.7706819\n",
            "[LOG] Epoch=30, loss=2.5934126\n",
            "[LOG] Epoch=35, loss=2.5218625\n",
            "[LOG] Epoch=40, loss=2.4767835\n",
            "[LOG] Epoch=45, loss=2.4386345\n",
            "[LOG] Epoch=50, loss=2.4029048\n",
            "[LOG] Epoch=55, loss=2.3684639\n",
            "[LOG] Epoch=60, loss=2.3349953\n",
            "[LOG] Epoch=65, loss=2.3023937\n",
            "[LOG] Epoch=70, loss=2.2706116\n",
            "[LOG] Epoch=75, loss=2.2396178\n",
            "[LOG] Epoch=80, loss=2.2093868\n",
            "[LOG] Epoch=85, loss=2.1798951\n",
            "[LOG] Epoch=90, loss=2.1511206\n",
            "[LOG] Epoch=95, loss=2.1230422\n",
            "[LOG] Epoch=100, loss=2.0956395\n"
          ]
        }
      ]
    },
    {
      "cell_type": "code",
      "source": [
        "preds = predict(W, testX)\n",
        "print(classification_report(testY, preds))"
      ],
      "metadata": {
        "colab": {
          "base_uri": "https://localhost:8080/"
        },
        "id": "wR7ji_Xu6F2H",
        "outputId": "d9dd171f-b25c-4e29-a999-2795e3a21f85"
      },
      "execution_count": 10,
      "outputs": [
        {
          "output_type": "stream",
          "name": "stdout",
          "text": [
            "              precision    recall  f1-score   support\n",
            "\n",
            "           0       1.00      1.00      1.00       486\n",
            "           1       1.00      1.00      1.00       514\n",
            "\n",
            "    accuracy                           1.00      1000\n",
            "   macro avg       1.00      1.00      1.00      1000\n",
            "weighted avg       1.00      1.00      1.00      1000\n",
            "\n"
          ]
        }
      ]
    },
    {
      "cell_type": "code",
      "source": [
        "plt.figure(figsize=(11.7,8.27))\n",
        "plt.plot(range(0, num_epochs), losses)\n",
        "plt.title(\"Training Loss\")\n",
        "plt.xlabel(\"Epoch #\")\n",
        "plt.ylabel(\"Loss\")\n",
        "plt.grid(True)\n",
        "plt.show()"
      ],
      "metadata": {
        "colab": {
          "base_uri": "https://localhost:8080/",
          "height": 527
        },
        "id": "C1noPRSL6HNP",
        "outputId": "e4370304-82ec-4fe9-b0f6-3d3ee57bf627"
      },
      "execution_count": 11,
      "outputs": [
        {
          "output_type": "display_data",
          "data": {
            "text/plain": [
              "<Figure size 842.4x595.44 with 1 Axes>"
            ],
            "image/png": "[encoded data removed]"
          },
          "metadata": {
            "needs_background": "light"
          }
        }
      ]
    },
    {
      "cell_type": "code",
      "source": [
        "# stochastic gradient descent\n",
        "\n",
        "def train_sgd(W, X_trains, y_trains, learning_rate, num_epochs):\n",
        "  n_points = X_trains.shape[0]\n",
        "\n",
        "  for epoch in np.arange(0, num_epochs):\n",
        "    \n",
        "    index = np.random.randint(0, n_points - 1)\n",
        "\n",
        "    X = X_trains[index:index+1]\n",
        "      \n",
        "    y = y_trains[index:index+1]\n",
        "\n",
        "    h = compute_h(W, X)\n",
        "\n",
        "    error = h - y\n",
        "\n",
        "    loss = np.sum(error ** 2)\n",
        "\n",
        "    losses.append(loss)\n",
        "\n",
        "    gradient = compute_gradient(error, h, X)\n",
        "\n",
        "    W += -learning_rate * gradient\n",
        "    \n",
        "    if epoch == 0 or (epoch + 1) % 5 == 0:\n",
        "      print(\"[LOG] Epoch={}, loss={:.7f}\".format(int(epoch + 1), loss))\n",
        "\n",
        "  return W"
      ],
      "metadata": {
        "id": "r6YFZCKn6Kmf"
      },
      "execution_count": 35,
      "outputs": []
    },
    {
      "cell_type": "code",
      "source": [
        "num_epochs=100\n",
        "learning_rate=0.01\n",
        "\n",
        "W = np.random.randn(X.shape[1], 1)\n",
        "losses = []\n",
        "\n",
        "W=train_sgd(W,trainX, trainY, learning_rate, num_epochs)"
      ],
      "metadata": {
        "colab": {
          "base_uri": "https://localhost:8080/"
        },
        "id": "bAvngGjV8Y-5",
        "outputId": "b5cf9c94-d5ce-4d0a-82f4-6c541d771f91"
      },
      "execution_count": 36,
      "outputs": [
        {
          "output_type": "stream",
          "name": "stdout",
          "text": [
            "[LOG] Epoch=1, loss=0.0259345\n",
            "[LOG] Epoch=5, loss=0.0002023\n",
            "[LOG] Epoch=10, loss=0.0000000\n",
            "[LOG] Epoch=15, loss=0.0000000\n",
            "[LOG] Epoch=20, loss=0.0000000\n",
            "[LOG] Epoch=25, loss=0.0000000\n",
            "[LOG] Epoch=30, loss=0.0000020\n",
            "[LOG] Epoch=35, loss=0.0196904\n",
            "[LOG] Epoch=40, loss=0.0000000\n",
            "[LOG] Epoch=45, loss=0.1228374\n",
            "[LOG] Epoch=50, loss=0.0005592\n",
            "[LOG] Epoch=55, loss=0.0000000\n",
            "[LOG] Epoch=60, loss=0.0004102\n",
            "[LOG] Epoch=65, loss=0.0000000\n",
            "[LOG] Epoch=70, loss=0.0033610\n",
            "[LOG] Epoch=75, loss=0.0039241\n",
            "[LOG] Epoch=80, loss=0.0000000\n",
            "[LOG] Epoch=85, loss=0.0000000\n",
            "[LOG] Epoch=90, loss=0.0000000\n",
            "[LOG] Epoch=95, loss=0.0000000\n",
            "[LOG] Epoch=100, loss=0.1780380\n"
          ]
        }
      ]
    },
    {
      "cell_type": "code",
      "source": [
        "plt.figure(figsize=(11.7,8.27))\n",
        "plt.plot(range(0, num_epochs), losses)\n",
        "plt.title(\"Training Loss\")\n",
        "plt.xlabel(\"Epoch #\")\n",
        "plt.ylabel(\"Loss\")\n",
        "plt.grid(True)\n",
        "plt.show()"
      ],
      "metadata": {
        "colab": {
          "base_uri": "https://localhost:8080/",
          "height": 527
        },
        "id": "6svgMwt28gy2",
        "outputId": "4263ce0a-0e58-402f-880b-fd7131e4c4ed"
      },
      "execution_count": 37,
      "outputs": [
        {
          "output_type": "display_data",
          "data": {
            "text/plain": [
              "<Figure size 842.4x595.44 with 1 Axes>"
            ],
            "image/png": "[encoded data removed]"
          },
          "metadata": {
            "needs_background": "light"
          }
        }
      ]
    },
    {
      "cell_type": "code",
      "source": [
        "# mini-batch\n",
        "batch_size = 10\n",
        "\n",
        "def train_minibatch_gd(W, X_trains, y_trains, learning_rate, num_epochs):\n",
        "  total_samples = X_trains.shape[0]\n",
        "\n",
        "  for epoch in np.arange(0, num_epochs):\n",
        "    \n",
        "    random_indices = np.random.permutation(total_samples)\n",
        "    \n",
        "    X_random = X[random_indices]\n",
        "    \n",
        "    y_random = y_trains[random_indices]\n",
        "\n",
        "    for sample in range(0, total_samples, batch_size):\n",
        "\n",
        "      X_batch = X_random[sample: sample + batch_size]\n",
        "\n",
        "      y_batch = y_random[sample: sample + batch_size]\n",
        "\n",
        "      h = compute_h(W, X)\n",
        "\n",
        "      error = h - y\n",
        "\n",
        "      loss = np.sum(error ** 2)\n",
        "\n",
        "      gradient = compute_gradient(error, h, X)\n",
        "\n",
        "      W += -learning_rate * gradient\n",
        "\n",
        "    losses.append(loss)\n",
        "    \n",
        "    if epoch == 0 or (epoch + 1) % 5 == 0:\n",
        "      print(\"[LOG] Epoch={}, loss={:.7f}\".format(int(epoch + 1), loss))\n",
        "\n",
        "  return W"
      ],
      "metadata": {
        "id": "TDh31JGUAMy_"
      },
      "execution_count": 44,
      "outputs": []
    },
    {
      "cell_type": "code",
      "source": [
        "num_epochs=100\n",
        "learning_rate=0.01\n",
        "\n",
        "W = np.random.randn(X.shape[1], 1)\n",
        "losses = []\n",
        "\n",
        "W=train_minibatch_gd(W,trainX, trainY, learning_rate, num_epochs)"
      ],
      "metadata": {
        "colab": {
          "base_uri": "https://localhost:8080/"
        },
        "id": "rZEK4a7fBBbr",
        "outputId": "4f7a16d1-fb5d-4fe4-83b2-2c20f64089ae"
      },
      "execution_count": 45,
      "outputs": [
        {
          "output_type": "stream",
          "name": "stdout",
          "text": [
            "[LOG] Epoch=1, loss=1.0625983\n",
            "[LOG] Epoch=5, loss=0.8706703\n",
            "[LOG] Epoch=10, loss=0.6220142\n",
            "[LOG] Epoch=15, loss=0.3635225\n",
            "[LOG] Epoch=20, loss=0.2164887\n",
            "[LOG] Epoch=25, loss=0.1534308\n",
            "[LOG] Epoch=30, loss=0.1245680\n",
            "[LOG] Epoch=35, loss=0.1088837\n",
            "[LOG] Epoch=40, loss=0.0987561\n",
            "[LOG] Epoch=45, loss=0.0913069\n",
            "[LOG] Epoch=50, loss=0.0853519\n",
            "[LOG] Epoch=55, loss=0.0803492\n",
            "[LOG] Epoch=60, loss=0.0760200\n",
            "[LOG] Epoch=65, loss=0.0722031\n",
            "[LOG] Epoch=70, loss=0.0687951\n",
            "[LOG] Epoch=75, loss=0.0657240\n",
            "[LOG] Epoch=80, loss=0.0629368\n",
            "[LOG] Epoch=85, loss=0.0603923\n",
            "[LOG] Epoch=90, loss=0.0580579\n",
            "[LOG] Epoch=95, loss=0.0559071\n",
            "[LOG] Epoch=100, loss=0.0539179\n"
          ]
        }
      ]
    },
    {
      "cell_type": "code",
      "source": [
        "plt.figure(figsize=(11.7,8.27))\n",
        "plt.plot(range(0, num_epochs), losses)\n",
        "plt.title(\"Training Loss\")\n",
        "plt.xlabel(\"Epoch #\")\n",
        "plt.ylabel(\"Loss\")\n",
        "plt.grid(True)\n",
        "plt.show()"
      ],
      "metadata": {
        "colab": {
          "base_uri": "https://localhost:8080/",
          "height": 527
        },
        "id": "8JLjj38vBGVx",
        "outputId": "dc64d627-7505-4153-d51b-b98c247e8009"
      },
      "execution_count": 46,
      "outputs": [
        {
          "output_type": "display_data",
          "data": {
            "text/plain": [
              "<Figure size 842.4x595.44 with 1 Axes>"
            ],
            "image/png": "[encoded data removed]"
          },
          "metadata": {
            "needs_background": "light"
          }
        }
      ]
    }
  ]
}